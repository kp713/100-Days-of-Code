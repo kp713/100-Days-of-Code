{
  "nbformat": 4,
  "nbformat_minor": 0,
  "metadata": {
    "colab": {
      "name": " Day4.ipynb",
      "provenance": [],
      "authorship_tag": "ABX9TyNunF35OL0/Ng4hd2gsPWQN",
      "include_colab_link": true
    },
    "kernelspec": {
      "name": "python3",
      "display_name": "Python 3"
    },
    "language_info": {
      "name": "python"
    }
  },
  "cells": [
    {
      "cell_type": "markdown",
      "metadata": {
        "id": "view-in-github",
        "colab_type": "text"
      },
      "source": [
        "<a href=\"https://colab.research.google.com/github/kp713/100-Days-of-Code/blob/main/Day4.ipynb\" target=\"_parent\"><img src=\"https://colab.research.google.com/assets/colab-badge.svg\" alt=\"Open In Colab\"/></a>"
      ]
    },
    {
      "cell_type": "markdown",
      "source": [
        "https://www.hackerrank.com/challenges/matrix-script/problem\n",
        "\n",
        "# **Please click on the link to read the complete and actual problem**\n",
        "Neo has a complex matrix script. The matrix script is a  X  grid of strings. It consists of alphanumeric characters, spaces and symbols (!,@,#,$,%,&).\n",
        "\n",
        "\n",
        "\n",
        "To decode the script, Neo needs to read each column and select only the alphanumeric characters and connect them. Neo reads the column from top to bottom and starsts reading from the leftmost column.\n",
        "\n",
        "If there are symbols or spaces between two alphanumeric characters of the decoded script, then Neo replaces them with a single space '' for better readability.\n",
        "\n",
        "Neo feels that there is no need to use 'if' conditions for decoding.\n",
        "\n",
        "Alphanumeric characters consist of: [A-Z, a-z, and 0-9].\n",
        "\n",
        "Input Format\n",
        "\n",
        "The first line contains space-separated integers  (rows) and  (columns) respectively.\n",
        "The next  lines contain the row elements of the matrix script.\n",
        "\n",
        "Constraints\n",
        "\n",
        "\n",
        "Note: A  score will be awarded for using 'if' conditions in your code.\n",
        "\n",
        "Output Format\n",
        "\n",
        "Print the decoded matrix script.\n",
        "\n",
        "Sample Input 0\n",
        "\n",
        "7 3\n",
        "Tsi\n",
        "h%x\n",
        "i #\n",
        "sM \n",
        "$a \n",
        "#t%\n",
        "ir!\n",
        "Sample Output 0\n",
        "\n",
        "This is Matrix#  %!\n",
        "Explanation 0\n",
        "\n",
        "The decoded script is:\n",
        "\n",
        "This$#is% Matrix#  %!\n",
        "Neo replaces the symbols or spaces between two alphanumeric characters with a single space   ' ' for better readability.\n",
        "\n",
        "So, the final decoded script is:\n",
        "\n",
        "This is Matrix#  %!"
      ],
      "metadata": {
        "id": "L7P-8SStoZ2H"
      }
    },
    {
      "cell_type": "code",
      "execution_count": null,
      "metadata": {
        "colab": {
          "base_uri": "https://localhost:8080/"
        },
        "id": "vx52kYgalCvw",
        "outputId": "f7af052b-7899-412b-aaed-59e7f37d10bc"
      },
      "outputs": [
        {
          "output_type": "stream",
          "name": "stdout",
          "text": [
            "7 3\n",
            "Tsi\n",
            "ir!\n",
            "it!\n",
            "$a\n",
            "$a\n",
            "$a\n",
            "$a\n",
            "Tii srtaaaa\n"
          ]
        }
      ],
      "source": [
        "import re\n",
        "\n",
        "n, m = map(int, input().split())\n",
        "a, b = [], \"\"\n",
        "for _ in range(n):\n",
        "    a.append(input())\n",
        "\n",
        "for z in zip(*a):\n",
        "    b += \"\".join(z)\n",
        "\n",
        "print(re.sub(r\"(?<=\\w)([^\\w]+)(?=\\w)\", \" \", b))\n"
      ]
    }
  ]
}
