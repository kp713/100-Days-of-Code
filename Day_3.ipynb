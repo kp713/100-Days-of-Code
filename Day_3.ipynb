{
  "nbformat": 4,
  "nbformat_minor": 0,
  "metadata": {
    "colab": {
      "name": "Day 3",
      "provenance": [],
      "collapsed_sections": [],
      "authorship_tag": "ABX9TyN2IEnjW127aLJ9pH7YM4LD",
      "include_colab_link": true
    },
    "kernelspec": {
      "name": "python3",
      "display_name": "Python 3"
    },
    "language_info": {
      "name": "python"
    },
    "accelerator": "GPU"
  },
  "cells": [
    {
      "cell_type": "markdown",
      "metadata": {
        "id": "view-in-github",
        "colab_type": "text"
      },
      "source": [
        "<a href=\"https://colab.research.google.com/github/kp713/100-Days-of-Code/blob/main/Day_3.ipynb\" target=\"_parent\"><img src=\"https://colab.research.google.com/assets/colab-badge.svg\" alt=\"Open In Colab\"/></a>"
      ]
    },
    {
      "cell_type": "markdown",
      "source": [
        "** Day 3 **\n",
        "\n",
        "Good morning! Here's your coding interview problem for today.\n",
        "\n",
        "This problem was asked by Uber.\n",
        "\n",
        "Given an array of integers, return a new array such that each element at index i of the new array is the product of all the numbers in the original array except the one at i.\n",
        "\n",
        "For example, if our input was [1, 2, 3, 4, 5], the expected output would be [120, 60, 40, 30, 24]. If our input was [3, 2, 1], the expected output would be [2, 3, 6].\n",
        "\n",
        "Follow-up: what if you can't use division?\n"
      ],
      "metadata": {
        "id": "_3sOLDNS1FpJ"
      }
    },
    {
      "cell_type": "code",
      "source": [
        "#Using division : I have an outarray and I calculate the total product of the input array, then append the result product divided by each element to the output array\n",
        "from functools import reduce\n",
        "def ubermult(list) :\n",
        " outarray = []\n",
        " prod = reduce((lambda x, y: x * y), list)\n",
        " for i in range( 0, len(list) ) :\n",
        "    result = prod/ list[i]\n",
        "    outarray.append(result)\n",
        " print(outarray)"
      ],
      "metadata": {
        "id": "j8866Aqm1Sto"
      },
      "execution_count": 8,
      "outputs": []
    },
    {
      "cell_type": "code",
      "source": [
        "ubermult([1,2,3,4,5])"
      ],
      "metadata": {
        "colab": {
          "base_uri": "https://localhost:8080/"
        },
        "id": "5pw5O9X24pGn",
        "outputId": "3c5c7f27-4b81-4b7a-b235-54e4e0e80269"
      },
      "execution_count": 9,
      "outputs": [
        {
          "output_type": "stream",
          "name": "stdout",
          "text": [
            "[120.0, 60.0, 40.0, 30.0, 24.0]\n"
          ]
        }
      ]
    },
    {
      "cell_type": "code",
      "source": [
        "#Without Division : Here I decided to clone the input list as the first step in the loop, then remove each element and calculate the product, then append to outarray \n",
        "def ubermult2(lista) : \n",
        "  outarray = []\n",
        "\n",
        "  for i in range( 0, len(lista) ) :\n",
        "    list1 = [i for i in lista]\n",
        "    list1.remove(lista[i])\n",
        "    result = reduce((lambda x, y: x * y), list1)\n",
        "    outarray.append(result)\n",
        "  print(outarray) "
      ],
      "metadata": {
        "id": "VSMlHvKfC8YC"
      },
      "execution_count": 15,
      "outputs": []
    },
    {
      "cell_type": "code",
      "source": [
        "ubermult2([1,2,3,4,5])"
      ],
      "metadata": {
        "colab": {
          "base_uri": "https://localhost:8080/"
        },
        "id": "okLM5DQwDI_j",
        "outputId": "216916b1-873e-4180-90e4-cb18dcf59df7"
      },
      "execution_count": 16,
      "outputs": [
        {
          "output_type": "stream",
          "name": "stdout",
          "text": [
            "[120, 60, 40, 30, 24]\n"
          ]
        }
      ]
    }
  ]
}