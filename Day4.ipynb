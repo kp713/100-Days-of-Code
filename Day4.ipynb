{
  "nbformat": 4,
  "nbformat_minor": 0,
  "metadata": {
    "colab": {
      "name": "Day4.ipynb",
      "provenance": [],
      "authorship_tag": "ABX9TyN5UbhKbuMCE7mWwrjfVtWs",
      "include_colab_link": true
    },
    "kernelspec": {
      "name": "python3",
      "display_name": "Python 3"
    },
    "language_info": {
      "name": "python"
    }
  },
  "cells": [
    {
      "cell_type": "markdown",
      "metadata": {
        "id": "view-in-github",
        "colab_type": "text"
      },
      "source": [
        "<a href=\"https://colab.research.google.com/github/kp713/100-Days-of-Code/blob/main/Day4.ipynb\" target=\"_parent\"><img src=\"https://colab.research.google.com/assets/colab-badge.svg\" alt=\"Open In Colab\"/></a>"
      ]
    },
    {
      "cell_type": "code",
      "execution_count": 3,
      "metadata": {
        "colab": {
          "base_uri": "https://localhost:8080/"
        },
        "id": "vx52kYgalCvw",
        "outputId": "f7af052b-7899-412b-aaed-59e7f37d10bc"
      },
      "outputs": [
        {
          "output_type": "stream",
          "name": "stdout",
          "text": [
            "7 3\n",
            "Tsi\n",
            "ir!\n",
            "it!\n",
            "$a\n",
            "$a\n",
            "$a\n",
            "$a\n",
            "Tii srtaaaa\n"
          ]
        }
      ],
      "source": [
        "import re\n",
        "\n",
        "n, m = map(int, input().split())\n",
        "a, b = [], \"\"\n",
        "for _ in range(n):\n",
        "    a.append(input())\n",
        "\n",
        "for z in zip(*a):\n",
        "    b += \"\".join(z)\n",
        "\n",
        "print(re.sub(r\"(?<=\\w)([^\\w]+)(?=\\w)\", \" \", b))\n"
      ]
    }
  ]
}