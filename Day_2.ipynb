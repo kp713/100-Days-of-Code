{
  "nbformat": 4,
  "nbformat_minor": 0,
  "metadata": {
    "colab": {
      "name": "Day 2.ipynb",
      "provenance": [],
      "collapsed_sections": [],
      "authorship_tag": "ABX9TyOO8B/EFLEPY2lc5nAZmbJ7",
      "include_colab_link": true
    },
    "kernelspec": {
      "name": "python3",
      "display_name": "Python 3"
    },
    "language_info": {
      "name": "python"
    }
  },
  "cells": [
    {
      "cell_type": "markdown",
      "metadata": {
        "id": "view-in-github",
        "colab_type": "text"
      },
      "source": [
        "<a href=\"https://colab.research.google.com/github/kp713/100-Days-of-Code/blob/main/Day_2.ipynb\" target=\"_parent\"><img src=\"https://colab.research.google.com/assets/colab-badge.svg\" alt=\"Open In Colab\"/></a>"
      ]
    },
    {
      "cell_type": "markdown",
      "source": [
        "**DAY 2**\n",
        "\n",
        "Good morning! Here's your coding interview problem for today.\n",
        "\n",
        "This problem was recently asked by Google.\n",
        "\n",
        "Given a list of numbers and a number k, return whether any two numbers from the list add up to k.\n",
        "\n",
        "For example, given [10, 15, 3, 7] and k of 17, return true since 10 + 7 is 17.\n",
        "\n",
        "Bonus: Can you do this in one pass?"
      ],
      "metadata": {
        "id": "gZ-cgVTvhRyJ"
      }
    },
    {
      "cell_type": "code",
      "execution_count": 11,
      "metadata": {
        "id": "-0kTGbEKgyL3"
      },
      "outputs": [],
      "source": [
        "#Not a single pass\n",
        "def day2(list, k) :\n",
        "  for i in range(0,len(list)):\n",
        "    for j in range (i + 1, len(list)) :\n",
        "      if  list[i] + list[j] == k :\n",
        "       print(\"True\")\n",
        "\n"
      ]
    },
    {
      "cell_type": "code",
      "source": [
        "day2([10, 15, 3, 7],17)"
      ],
      "metadata": {
        "colab": {
          "base_uri": "https://localhost:8080/"
        },
        "id": "Y7sKqYRolIJQ",
        "outputId": "3ab9baf4-31c3-4d68-a7d0-2582561444b3"
      },
      "execution_count": 12,
      "outputs": [
        {
          "output_type": "stream",
          "name": "stdout",
          "text": [
            "True\n"
          ]
        }
      ]
    },
    {
      "cell_type": "code",
      "source": [
        "#Single Pass\n",
        "def day2_v2(list,k) :\n",
        "  for i in list :\n",
        "    if k- i in list :\n",
        "      print(\"True\")\n",
        "    else: print (\"False\")\n"
      ],
      "metadata": {
        "id": "-fF5dMWOm1s1"
      },
      "execution_count": 19,
      "outputs": []
    },
    {
      "cell_type": "code",
      "source": [
        "day2_v2([10, 15, 3, 7],16)"
      ],
      "metadata": {
        "colab": {
          "base_uri": "https://localhost:8080/"
        },
        "id": "WzsEU_pxnfRW",
        "outputId": "7cc39bb4-fd3d-443c-9168-3949291bbb25"
      },
      "execution_count": 20,
      "outputs": [
        {
          "output_type": "stream",
          "name": "stdout",
          "text": [
            "False\n",
            "False\n",
            "False\n",
            "False\n"
          ]
        }
      ]
    }
  ]
}