{
  "nbformat": 4,
  "nbformat_minor": 0,
  "metadata": {
    "colab": {
      "name": "Day 9.ipynb",
      "provenance": [],
      "collapsed_sections": [],
      "authorship_tag": "ABX9TyOkrrlzmF5qGAks/I+uu3Qe",
      "include_colab_link": true
    },
    "kernelspec": {
      "name": "python3",
      "display_name": "Python 3"
    },
    "language_info": {
      "name": "python"
    }
  },
  "cells": [
    {
      "cell_type": "markdown",
      "metadata": {
        "id": "view-in-github",
        "colab_type": "text"
      },
      "source": [
        "<a href=\"https://colab.research.google.com/github/kp713/100-Days-of-Code/blob/main/Day_9.ipynb\" target=\"_parent\"><img src=\"https://colab.research.google.com/assets/colab-badge.svg\" alt=\"Open In Colab\"/></a>"
      ]
    },
    {
      "cell_type": "markdown",
      "source": [
        "Write a Python program to check the nth-1 string is a proper substring of nth string in a given list of strings."
      ],
      "metadata": {
        "id": "E2Bph0Ev0gVX"
      }
    },
    {
      "cell_type": "code",
      "execution_count": 1,
      "metadata": {
        "id": "L7kTWtNP0fhg"
      },
      "outputs": [],
      "source": [
        "def test(stri):\n",
        "    return stri[len(stri)-2] in stri[len(stri)-1] and stri[len(stri)-2] != stri[len(stri)-1]"
      ]
    },
    {
      "cell_type": "code",
      "source": [
        "test([\"a\",\"abb\",\"sfs\", \"oo\", \"de\", \"sfd\"])"
      ],
      "metadata": {
        "colab": {
          "base_uri": "https://localhost:8080/"
        },
        "id": "tm78Zl6I1M5e",
        "outputId": "551b0323-8277-4628-cad8-0e093743845e"
      },
      "execution_count": 3,
      "outputs": [
        {
          "output_type": "execute_result",
          "data": {
            "text/plain": [
              "False"
            ]
          },
          "metadata": {},
          "execution_count": 3
        }
      ]
    }
  ]
}