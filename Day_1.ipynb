{
 "cells": [
  {
   "cell_type": "markdown",
   "metadata": {},
   "source": [
    "# Day 1 staircase problem"
   ]
  },
  {
   "cell_type": "markdown",
   "metadata": {},
   "source": [
    "The problem : There's a staircase with N steps, and you can climb 1 or 2 steps at a time. Given N, write a function that returns the number of unique ways you can climb the staircase. The order of the steps matters.\n",
    "\n",
    "For example, if N is 4, then there are 5 unique ways:\n",
    "\n",
    "1, 1, 1, 1\n",
    "2, 1, 1\n",
    "1, 2, 1\n",
    "1, 1, 2\n",
    "2, 2\n",
    "What if, instead of being able to climb 1 or 2 steps at a time, you could climb any number from a set of positive integers X? For example, if X = {1, 3, 5}, you could climb 1, 3, or 5 steps at a time. Generalize your function to take in X."
   ]
  },
  {
   "cell_type": "markdown",
   "metadata": {},
   "source": [
    "I intially thought that this is clearly in the domain of Permutations and combinations, specifically combinations without repetitions \n",
    "(     n\n",
    "      r        )   i.e (n)!  / r!(n − r)!\n",
    " Then, I thought maybe permutations ? I was wrong on both counts, Anyways, I've included my failed attempts here first too."
   ]
  },
  {
   "cell_type": "code",
   "execution_count": 3,
   "metadata": {},
   "outputs": [],
   "source": [
    "#create a factorial function\n",
    "\n",
    "def factorial(fact) :\n",
    "    for i in range(1,fact):\n",
    "        fact = fact * i\n",
    "    return fact  "
   ]
  },
  {
   "cell_type": "code",
   "execution_count": 4,
   "metadata": {},
   "outputs": [
    {
     "data": {
      "text/plain": [
       "2"
      ]
     },
     "execution_count": 4,
     "metadata": {},
     "output_type": "execute_result"
    }
   ],
   "source": [
    "#Check to see if it works\n",
    "factorial(2)"
   ]
  },
  {
   "cell_type": "code",
   "execution_count": 57,
   "metadata": {},
   "outputs": [],
   "source": [
    "#create a function to carry out the combinations without repetiions using the factorial function created above\n",
    "# As none of these formulae fit the  bill, I tried something called combos 2 to try and fit the pattern but it was of no use\n",
    "def combo(steps,jumps) :\n",
    "    combos = factorial(steps) / (factorial(steps-jumps)*factorial(jumps))\n",
    "    combos2 = combos /steps    \n",
    "        \n",
    "    return combos2 , combos"
   ]
  },
  {
   "cell_type": "code",
   "execution_count": 58,
   "metadata": {},
   "outputs": [
    {
     "data": {
      "text/plain": [
       "(1.5, 6.0)"
      ]
     },
     "execution_count": 58,
     "metadata": {},
     "output_type": "execute_result"
    }
   ],
   "source": [
    "combo(4,2)"
   ]
  },
  {
   "cell_type": "code",
   "execution_count": 61,
   "metadata": {},
   "outputs": [],
   "source": [
    "def permutations(steps,jumps) :\n",
    "    combos = factorial(steps) / (factorial(steps-jumps))\n",
    "    c1= (combos/steps )\n",
    "    return combos , c1  "
   ]
  },
  {
   "cell_type": "code",
   "execution_count": 62,
   "metadata": {},
   "outputs": [
    {
     "data": {
      "text/plain": [
       "(12.0, 3.0)"
      ]
     },
     "execution_count": 62,
     "metadata": {},
     "output_type": "execute_result"
    }
   ],
   "source": [
    "permutations(4,2)"
   ]
  },
  {
   "cell_type": "markdown",
   "metadata": {},
   "source": [
    "I tried a different approach now:\n",
    "If N is the # steps on the staircase and we can climb 1 or 2 steps at a time,\n",
    "When N = 1 => {1}\n",
    "N=2 => {1,1} , {2}\n",
    "N=3 => {1,1,1}, {2,1}, {1,2}\n",
    "\n",
    "This kind of looks like the Fibonacci sequence.\n",
    "\n",
    "f(n) = f(n - 1) + f(n - 2)\n",
    "\n",
    "Similarly if we're taking 1,2 or 3 steps at a time the general formula would be :\n",
    "\n",
    "f(n) = f(n - 1) + f(n - 2)  + f(n - 3)\n",
    "\n",
    "Where n > 0"
   ]
  },
  {
   "cell_type": "code",
   "execution_count": 71,
   "metadata": {},
   "outputs": [],
   "source": [
    "def staircase(steps, jumplist) :\n",
    "    if  steps < 0 :\n",
    "        return 0\n",
    "    elif steps ==0 :\n",
    "        return 1\n",
    "    else :\n",
    "        final = 0\n",
    "        for i in jumplist :\n",
    "            final = steps - i + final\n",
    "        \n",
    "    return final\n",
    "        \n"
   ]
  },
  {
   "cell_type": "code",
   "execution_count": 74,
   "metadata": {},
   "outputs": [
    {
     "data": {
      "text/plain": [
       "7"
      ]
     },
     "execution_count": 74,
     "metadata": {},
     "output_type": "execute_result"
    }
   ],
   "source": [
    "staircase(5,[2,1])"
   ]
  },
  {
   "cell_type": "code",
   "execution_count": null,
   "metadata": {},
   "outputs": [],
   "source": [
    "There you go! :)"
   ]
  }
 ],
 "metadata": {
  "kernelspec": {
   "display_name": "Python 3",
   "language": "python",
   "name": "python3"
  },
  "language_info": {
   "codemirror_mode": {
    "name": "ipython",
    "version": 3
   },
   "file_extension": ".py",
   "mimetype": "text/x-python",
   "name": "python",
   "nbconvert_exporter": "python",
   "pygments_lexer": "ipython3",
   "version": "3.7.0"
  }
 },
 "nbformat": 4,
 "nbformat_minor": 2
}
