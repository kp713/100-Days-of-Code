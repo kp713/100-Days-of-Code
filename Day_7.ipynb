{
  "nbformat": 4,
  "nbformat_minor": 0,
  "metadata": {
    "colab": {
      "name": "Day 7.ipynb",
      "provenance": [],
      "authorship_tag": "ABX9TyPQBQBeQY76+8xMtqltCn+e",
      "include_colab_link": true
    },
    "kernelspec": {
      "name": "python3",
      "display_name": "Python 3"
    },
    "language_info": {
      "name": "python"
    }
  },
  "cells": [
    {
      "cell_type": "markdown",
      "metadata": {
        "id": "view-in-github",
        "colab_type": "text"
      },
      "source": [
        "<a href=\"https://colab.research.google.com/github/kp713/100-Days-of-Code/blob/main/Day_7.ipynb\" target=\"_parent\"><img src=\"https://colab.research.google.com/assets/colab-badge.svg\" alt=\"Open In Colab\"/></a>"
      ]
    },
    {
      "cell_type": "markdown",
      "source": [
        "Problem :\n",
        "Write a Python program that accept a list of integers and check the length and the fifth element. Return true if the length of the list is 8 and fifth element occurs thrice in the said list."
      ],
      "metadata": {
        "id": "tYpsdfJpuLmh"
      }
    },
    {
      "cell_type": "code",
      "source": [
        "my_list"
      ],
      "metadata": {
        "colab": {
          "base_uri": "https://localhost:8080/"
        },
        "id": "L_VcmbGpu__d",
        "outputId": "bee2ca40-332f-4c93-f2c6-b57be13bf61f"
      },
      "execution_count": 10,
      "outputs": [
        {
          "output_type": "execute_result",
          "data": {
            "text/plain": [
              "[1, 2, 3, 4, 5, 6]"
            ]
          },
          "metadata": {},
          "execution_count": 10
        }
      ]
    },
    {
      "cell_type": "code",
      "source": [
        "def check (my_list) :\n",
        "  return len(my_list) == 8 and my_list.count(my_list[4]) == 3\n",
        "\n",
        "#Indexed as 4th place as in python indexing begins from 0 "
      ],
      "metadata": {
        "id": "hlJgpIX3vTJl"
      },
      "execution_count": 17,
      "outputs": []
    },
    {
      "cell_type": "code",
      "execution_count": 18,
      "metadata": {
        "colab": {
          "base_uri": "https://localhost:8080/"
        },
        "id": "PXpvIMf6uJdq",
        "outputId": "e77dd308-3bab-41c3-8443-26d183d62f95"
      },
      "outputs": [
        {
          "output_type": "stream",
          "name": "stdout",
          "text": [
            "1\n",
            "2\n",
            "5\n",
            "5\n",
            "5\n",
            "6\n",
            "7\n",
            "8\n",
            " \n",
            "[1, 2, 5, 5, 5, 6, 7, 8]\n"
          ]
        },
        {
          "output_type": "execute_result",
          "data": {
            "text/plain": [
              "True"
            ]
          },
          "metadata": {},
          "execution_count": 18
        }
      ],
      "source": [
        "try:\n",
        "    my_list = []\n",
        "     \n",
        "    while True:\n",
        "        my_list.append(int(input()))\n",
        "         \n",
        "# if the input is not-integer, just print the list\n",
        "except:\n",
        "    print(my_list)\n",
        "  #hit space to stop the input\n",
        "\n",
        "check(my_list)\n"
      ]
    }
  ]
}