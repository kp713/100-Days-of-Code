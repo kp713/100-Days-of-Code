{
  "nbformat": 4,
  "nbformat_minor": 0,
  "metadata": {
    "colab": {
      "name": "Day5.ipynb",
      "provenance": [],
      "authorship_tag": "ABX9TyOwZ/TEqm+mmjUGYmfy2KcW",
      "include_colab_link": true
    },
    "kernelspec": {
      "name": "python3",
      "display_name": "Python 3"
    },
    "language_info": {
      "name": "python"
    }
  },
  "cells": [
    {
      "cell_type": "markdown",
      "metadata": {
        "id": "view-in-github",
        "colab_type": "text"
      },
      "source": [
        "<a href=\"https://colab.research.google.com/github/kp713/100-Days-of-Code/blob/main/Day5.ipynb\" target=\"_parent\"><img src=\"https://colab.research.google.com/assets/colab-badge.svg\" alt=\"Open In Colab\"/></a>"
      ]
    },
    {
      "cell_type": "markdown",
      "source": [
        "Link to problem on Hackerrank : https://www.hackerrank.com/challenges/py-if-else/problem?isFullScreen=true\n",
        "\n",
        "Task\n",
        "Given an integer,n , perform the following conditional actions:\n",
        "\n",
        "If n  is odd, print Weird\n",
        "If n is even and in the inclusive range of 2 to 5, print Not Weird\n",
        "If n is even and in the inclusive range of  6 to 20, print Weird\n",
        "If n is even and greater than 20, print Not Weird\n",
        "Input Format\n",
        "\n",
        "A single line containing a positive integer, .\n",
        "\n",
        "Constraints\n",
        "1 <= n < =100\n",
        "Output Format\n",
        "\n",
        "Print Weird if the number is weird. Otherwise, print Not Weird.\n",
        "\n",
        "Sample Input 0\n"
      ],
      "metadata": {
        "id": "-KgbK7ZXqJ2p"
      }
    },
    {
      "cell_type": "code",
      "source": [
        "n = int(input().strip())\n",
        "check = {True: \"Not Weird\", False: \"Weird\"}\n",
        "\n",
        "print(check[\n",
        "        n%2==0 and (\n",
        "            n in range(2,6) or \n",
        "            n > 20)\n",
        "    ])"
      ],
      "metadata": {
        "id": "tCXtbVaQqhj_"
      },
      "execution_count": null,
      "outputs": []
    }
  ]
}